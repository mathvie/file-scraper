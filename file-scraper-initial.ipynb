{
 "cells": [
  {
   "cell_type": "code",
   "execution_count": 21,
   "metadata": {},
   "outputs": [],
   "source": [
    "import os\n",
    "from shutil import copy\n",
    "\n",
    "def scraper_files(origin_folder, destiny_folder, select_files, type_file):\n",
    "\n",
    "    if not os.path.exists(destiny_folder):\n",
    "        os.makedirs(destiny_folder)\n",
    "\n",
    "    for file in os.listdir(origin_folder):\n",
    "        if any(file.startswith(file_sel) for file_sel in select_files) and file.endswith(type_file):\n",
    "            origin_path = os.path.join(origin_folder, file)\n",
    "            destiny_path = os.path.join(destiny_folder, file)\n",
    "            \n",
    "            copy(origin_path, destiny_path)\n",
    "            print('copied')\n"
   ]
  },
  {
   "cell_type": "code",
   "execution_count": 22,
   "metadata": {},
   "outputs": [],
   "source": [
    "origin_folder = './origin'\n",
    "destiny_folder = './destiny'\n",
    "files = ['text_01', 'text_02']\n",
    "type_file = '.txt'"
   ]
  },
  {
   "cell_type": "code",
   "execution_count": 23,
   "metadata": {},
   "outputs": [
    {
     "name": "stdout",
     "output_type": "stream",
     "text": [
      "./origin ./destiny ['text_01', 'text_02'] .txt\n"
     ]
    }
   ],
   "source": [
    "print(origin_folder, destiny_folder, files, type_file)"
   ]
  },
  {
   "cell_type": "code",
   "execution_count": 24,
   "metadata": {},
   "outputs": [
    {
     "name": "stdout",
     "output_type": "stream",
     "text": [
      "copied\n",
      "copied\n"
     ]
    }
   ],
   "source": [
    "scraper_files(origin_folder, destiny_folder, files, type_file)"
   ]
  }
 ],
 "metadata": {
  "kernelspec": {
   "display_name": "Python 3",
   "language": "python",
   "name": "python3"
  },
  "language_info": {
   "codemirror_mode": {
    "name": "ipython",
    "version": 3
   },
   "file_extension": ".py",
   "mimetype": "text/x-python",
   "name": "python",
   "nbconvert_exporter": "python",
   "pygments_lexer": "ipython3",
   "version": "3.12.5"
  }
 },
 "nbformat": 4,
 "nbformat_minor": 2
}
